{
 "cells": [
  {
   "cell_type": "markdown",
   "metadata": {},
   "source": [
    "# Generalized Linear Models\n",
    "\n",
    "GLMs are normally covered in later portions of regression courses, but I think it mak\n",
    "es sense to understand them first. take a look at the table below:\n",
    "\n",
    "\n",
    "| Distribution | Link Function | Regression Function |\n",
    "| ------------ :| ------------- | ------------------- |\n",
    "| Normal | $g(\\mu) = \\mu$ | $\\mu = x^T\\beta$ |\n",
    "| Binomial | $g(\\mu) = log(\\frac{\\mu}{1-\\mu})$ | $\\mu = \\frac{e^{x^T\\beta}}{1+e^{x^T\\beta}}$ |\n",
    "| Poisson | $g(\\mu) = log(\\mu)$ | $ m = e^{x^T\\beta} $ |\n",
    "| Gamma | $g(\\mu) = \\frac{1}{\\mu}$ | $ \\mu = \\frac{1}{x^T\\beta}$ |\n",
    "\n",
    "Generalizing a linear model simply means allowing us to regress Y onto X across diffe\n",
    "rent distributions that Y may follow. The typical linear regression assumes Y is samp\n",
    "led from a simple normal distribution."
   ]
  }
 ],
 "metadata": {
  "kernelspec": {
   "display_name": "Python 3",
   "language": "python",
   "name": "python3"
  },
  "language_info": {
   "codemirror_mode": {
    "name": "ipython",
    "version": 3
   },
   "file_extension": ".py",
   "mimetype": "text/x-python",
   "name": "python",
   "nbconvert_exporter": "python",
   "pygments_lexer": "ipython3",
   "version": "3.6.4"
  }
 },
 "nbformat": 4,
 "nbformat_minor": 2
}
