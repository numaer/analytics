{
 "cells": [
  {
   "cell_type": "markdown",
   "metadata": {},
   "source": [
    "# Simplex Method\n",
    "\n",
    "The simplex method is an optimization method for finding the optimal solution for linear programs (LP). \n",
    "\n",
    "![Credits: Wikipedia](https://upload.wikimedia.org/wikipedia/commons/d/d4/Simplex-method-3-dimensions.png)\n",
    "\n",
    "## Steps\n",
    "\n",
    "1. Start with a basic feasible solution (BFS) **x** and the associated basis consisting of the basis matrix $B = [A_{B(1)},\\cdots,A_{B(m)}]$, where $A_{B(i)}$'s are the basic columns of $A$.\n",
    "\n",
    "2. Compute the reduced cost $\\bar{c}_j = c_j - c^T_BB^-1A_j$ for each nonbasic variable x_j. There are two possibilites:\n",
    "\n",
    " 2.1. If all reduced costs are nonnegative, current BFS is optimal and algorithm terminates.\n",
    " \n",
    " 2.2. Else, select some j with $\\bar{c} < 0$, so x_j enters the basis.\n",
    " \n",
    "3. Compute $d_B = -B^{-1}A_j$. The possibilities are:\n",
    "\n",
    " 3.1. If $d_B \\geq 0$, we know the optimal cost is -inf, the algorithm terminates.\n",
    " \n",
    " 3.2. Else, if some entry of $d_B$ is negative, continue to the next step\n",
    " \n",
    "4. If some entry of $d_B$ is negative, compute the stepsize $\\theta^*$ by the min-ratio test:\n",
    "\n",
    "5. Form the new basis matrix $\\bar{B}$ by replacing $A_{B(t)}$ column with $A_j$. The new BFS $y$ has basic variable part $y_{B(i)} = x_{B(i)} + \\theta*d_{B(i)}$ and $y_j=\\theta*$. Start from the beginning.\n",
    "\n",
    "\n",
    "## Degeneracy\n",
    "\n",
    "A basic feasible solution can be generate if there is a redundant active constraint at the BFS. Simplex can fail to terminate because it's possible for it to cycle at the same degenerate BFS.\n",
    "\n",
    "You can handle degeneracy with **Bland's Rule** aka the smallest index rule:\n",
    "* Choose the entering nonbasic variable $x_j$ such that j is the smallest index with $\\bar{c_j} < 0$.\n",
    "* Choose the exiting basic variable $x_i$ such that $i$ is the smallest index that achieves the minimum ratio in the min-ratio test.\n",
    "\n",
    "The Simplex method will always terminate if it uses Bland's rule.\n",
    "\n",
    "## Two Stage Simplex\n",
    "\n",
    "* Phase I: Solve related LP which is always feasible and is easy to write down a BFS so that the simplex method can be applied. Output is whether solution is infeasible OR the BFS.\n",
    "* Phase II: Regular simplex method starts if BFS is found from Phase I, else terminates."
   ]
  }
 ],
 "metadata": {
  "kernelspec": {
   "display_name": "Python 3",
   "language": "python",
   "name": "python3"
  },
  "language_info": {
   "codemirror_mode": {
    "name": "ipython",
    "version": 3
   },
   "file_extension": ".py",
   "mimetype": "text/x-python",
   "name": "python",
   "nbconvert_exporter": "python",
   "pygments_lexer": "ipython3",
   "version": "3.6.4"
  }
 },
 "nbformat": 4,
 "nbformat_minor": 2
}
