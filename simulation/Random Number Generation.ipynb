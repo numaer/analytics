{
 "cells": [
  {
   "cell_type": "markdown",
   "metadata": {},
   "source": [
    "# Random Number Generation\n",
    "\n",
    "#### Table of Contents\n",
    "\n",
    "* Summary\n",
    "* Bad Generators\n",
    "* Linear Congruential Generators\n",
    "* Tausworthe Generator\n",
    "* Combined Generators\n",
    "* RNG Theory\n",
    "* Statistical Tests for Randomness\n",
    "\n",
    "## Summary\n",
    "\n",
    "Key ideas of pseudo-random numbers:\n",
    "\n",
    "1. Algorithms to produce PRNs are relatively deterministic\n",
    "2. We can choose PRNs to mimic true random uniform which statistical tests can pass\n",
    "3. PRNs are the building blocks of simulations; we can transform PRNs to any distribution\n",
    "\n",
    "Properties of PRN algos:\n",
    "\n",
    "* Appears to be i.i.d uniform (e.g. Unif(0,1))\n",
    "* fast (may need to generate trillions)\n",
    "* reproducable (e.g. via seeds)\n",
    "\n",
    "__Goal__: Give an algorithm that produces a sequence of pseudo random numbers that appear to be i.i.d uniform."
   ]
  },
  {
   "cell_type": "code",
   "execution_count": 5,
   "metadata": {},
   "outputs": [],
   "source": [
    "import pandas as pd\n",
    "import numpy as np"
   ]
  },
  {
   "cell_type": "markdown",
   "metadata": {},
   "source": [
    "## Bad Methods\n",
    "\n",
    "* Random Devices - not reproducible\n",
    "* Random Number Tables - slow, time consuming, no longer random once seen\n",
    "* Mid-Square Method - serial correlation\n",
    "* Fibonacci & Additive congruential generators - small numbers follow small numbers"
   ]
  },
  {
   "cell_type": "code",
   "execution_count": 71,
   "metadata": {},
   "outputs": [
    {
     "data": {
      "text/plain": [
       "6.9"
      ]
     },
     "execution_count": 71,
     "metadata": {},
     "output_type": "execute_result"
    }
   ],
   "source": [
    "# BAD: Random devices, not reproducible\n",
    "import psutil\n",
    "psutil.cpu_percent()"
   ]
  },
  {
   "cell_type": "markdown",
   "metadata": {},
   "source": [
    "## Linear Congruential Generator (LCG)\n",
    "\n",
    "LCGs are most popular generators defined as:\n",
    "\n",
    "$$\n",
    "X_i = (a*X_{i-1}+c)\\mod {m} \\\\\n",
    "R_i = \\frac{X_i}{m}\n",
    "$$\n",
    "\n",
    "Need to carefully choose a, c, m to ensure long period/cycle length before starts to repeat. Some notes:\n",
    "* c=0 is a multiplicative generator\n",
    "* A full period generator is one with cycle length = m\n",
    "\n",
    "Some good, but not so good examples of LCGs:\n",
    "\n",
    "* Desert Island Generator - issue is serial correlation\n",
    "* RANDU - issue is most points land on same 15 hyperplanes\n",
    "\n",
    "## Tausworthe Generator  (LFSR)\n",
    "\n",
    "Use binary numbers to generator PRNs. Define a sequency of binary numbers: $B_1, B_2 ..$ using $B_i = (B_{i-r} + B_{i-q}) \\mod 2$. If $B_{i-r} = B_{i-q}$ then $B_i=0$ else $B_i=1$)\n",
    "\n",
    "Notes:\n",
    "\n",
    "* Period of bits is always $2^q-1$\n",
    "* Use (L-bits in base 2)/2^L and convert to base 10 to get PRN.\n",
    "\n",
    "## Combined generators:\n",
    "\n",
    "Really good and modern combined generators:\n",
    "\n",
    "* L'Ecuyer (1999), cycle length of $2^{191}$\n",
    "* Mersenne Twister with period length of $2^{19937}-1$\n",
    "\n",
    "## RNG Theory\n",
    "\n",
    "For a RNG to be full cycle, all the following should be true:\n",
    "* c & m should be relatively prime\n",
    "* (a-1) is a multiple of every prime which divides m\n",
    "* (a-1) is a multiple of 4 if 4 divides m\n",
    "\n",
    "#### Geometric Considerations\n",
    "\n",
    "* Min number of hyperplanes in all directions, find multiplier that maximizes this\n",
    "* Max distance between hyperplanes. Find multiplier that minimizes this\n",
    "* Min euclidean distance b/w n-adjacent tuples. Find multiplier that maximizes this\n",
    "\n",
    "Randu algo messes this up by laying in 15 hyperplanes\n",
    "\n",
    "#### Serial Correlation\n",
    "\n",
    "$$\n",
    "Corr(R_1, R_2) = 1/a((1-(6c/m)+(6(c/m)^2)+((a+6)/m))\n",
    "$$\n",
    "\n",
    "Desert island messes up here because the upper bound is small due to a=16807 and m 2B.\n",
    "\n",
    "## Statistical Tests\n",
    "\n",
    "* Goodness-of-fit tests - Are PRNs approximately Unif(0,1) \n",
    "* Independence tests - Are the PRNs approximately independent?\n",
    "\n",
    "### Revisiting hypothesis testing\n",
    "\n",
    "* Innocent until proven guilty. Unless we have ample evidence that H_a is the case, we keep H_0 (e.g. saying good fit or independent)\n",
    "* Type 1 error: Reject H_0 given that H_0 is true\n",
    "* Type 2 error: ACcept H_0 given that H_0 is false\n",
    "\n",
    "### Chi-Squared Goodness of Fit\n",
    "\n",
    "* Test H_0 : R0, R1, .. ~ Unif(0,1)\n",
    "* Divide R into k equiprobable cells\n",
    "* Tally how much actually falls into each cell\n",
    "* Large $X_0^2$ value indicates bad fit\n",
    "* If $X_0^2 \\leq X^2_{a,k-1}$, we fail to reject H0\n",
    "\n",
    "The goodness of fit statistic is as follows:\n",
    "\n",
    "$$\n",
    "X_0^2 = \\frac{(O_i - E_i)^2}{E^i}\n",
    "$$\n",
    "\n",
    "### Run Tests for Independence\n",
    "\n",
    "* Runs Tests \"Up and Down\"\n",
    "* Runs Tests \"Above and Below the Mean\""
   ]
  }
 ],
 "metadata": {
  "kernelspec": {
   "display_name": "Python 3",
   "language": "python",
   "name": "python3"
  },
  "language_info": {
   "codemirror_mode": {
    "name": "ipython",
    "version": 3
   },
   "file_extension": ".py",
   "mimetype": "text/x-python",
   "name": "python",
   "nbconvert_exporter": "python",
   "pygments_lexer": "ipython3",
   "version": "3.6.6"
  }
 },
 "nbformat": 4,
 "nbformat_minor": 2
}
